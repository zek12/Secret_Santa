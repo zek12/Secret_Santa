{
 "cells": [
  {
   "cell_type": "code",
   "execution_count": 3,
   "metadata": {
    "collapsed": true
   },
   "outputs": [],
   "source": [
    "from random import *\n",
    "import os\n",
    "from os.path import expanduser\n",
    "import pandas as pd\n",
    "\n",
    "# home = expanduser(\"~\")\n",
    "# participants = pd.read_excel(home + '/Downloads/participants secret santa.xlsx')\n",
    "participants = pd.read_excel('participants secret santa.xlsx')"
   ]
  },
  {
   "cell_type": "code",
   "execution_count": 4,
   "metadata": {},
   "outputs": [
    {
     "data": {
      "text/html": [
       "<div>\n",
       "<style>\n",
       "    .dataframe thead tr:only-child th {\n",
       "        text-align: right;\n",
       "    }\n",
       "\n",
       "    .dataframe thead th {\n",
       "        text-align: left;\n",
       "    }\n",
       "\n",
       "    .dataframe tbody tr th {\n",
       "        vertical-align: top;\n",
       "    }\n",
       "</style>\n",
       "<table border=\"1\" class=\"dataframe\">\n",
       "  <thead>\n",
       "    <tr style=\"text-align: right;\">\n",
       "      <th></th>\n",
       "      <th>Name</th>\n",
       "      <th>Email</th>\n",
       "    </tr>\n",
       "  </thead>\n",
       "  <tbody>\n",
       "    <tr>\n",
       "      <th>0</th>\n",
       "      <td>user 1</td>\n",
       "      <td>email1@mail.com</td>\n",
       "    </tr>\n",
       "    <tr>\n",
       "      <th>1</th>\n",
       "      <td>user 2</td>\n",
       "      <td>email2@mail.com</td>\n",
       "    </tr>\n",
       "    <tr>\n",
       "      <th>2</th>\n",
       "      <td>user 3</td>\n",
       "      <td>email3@mail.com</td>\n",
       "    </tr>\n",
       "    <tr>\n",
       "      <th>3</th>\n",
       "      <td>user 4</td>\n",
       "      <td>email4@mail.com</td>\n",
       "    </tr>\n",
       "    <tr>\n",
       "      <th>4</th>\n",
       "      <td>user 5</td>\n",
       "      <td>email5@mail.com</td>\n",
       "    </tr>\n",
       "    <tr>\n",
       "      <th>5</th>\n",
       "      <td>user 6</td>\n",
       "      <td>email6@mail.com</td>\n",
       "    </tr>\n",
       "    <tr>\n",
       "      <th>6</th>\n",
       "      <td>user 7</td>\n",
       "      <td>email7@mail.com</td>\n",
       "    </tr>\n",
       "    <tr>\n",
       "      <th>7</th>\n",
       "      <td>user 8</td>\n",
       "      <td>email8@mail.com</td>\n",
       "    </tr>\n",
       "    <tr>\n",
       "      <th>8</th>\n",
       "      <td>user 9</td>\n",
       "      <td>email9@mail.com</td>\n",
       "    </tr>\n",
       "    <tr>\n",
       "      <th>9</th>\n",
       "      <td>user 10</td>\n",
       "      <td>email10@mail.com</td>\n",
       "    </tr>\n",
       "  </tbody>\n",
       "</table>\n",
       "</div>"
      ],
      "text/plain": [
       "      Name             Email\n",
       "0   user 1   email1@mail.com\n",
       "1   user 2   email2@mail.com\n",
       "2   user 3   email3@mail.com\n",
       "3   user 4   email4@mail.com\n",
       "4   user 5   email5@mail.com\n",
       "5   user 6   email6@mail.com\n",
       "6   user 7   email7@mail.com\n",
       "7   user 8   email8@mail.com\n",
       "8   user 9   email9@mail.com\n",
       "9  user 10  email10@mail.com"
      ]
     },
     "execution_count": 4,
     "metadata": {},
     "output_type": "execute_result"
    }
   ],
   "source": [
    "participants.head(10)"
   ]
  },
  {
   "cell_type": "code",
   "execution_count": 9,
   "metadata": {},
   "outputs": [
    {
     "name": "stdout",
     "output_type": "stream",
     "text": [
      "(20, 2)\n",
      "RangeIndex(start=0, stop=20, step=1)\n",
      "Index(['Name', 'Email'], dtype='object')\n",
      "20\n",
      "2\n"
     ]
    }
   ],
   "source": [
    "print(participants.shape)\n",
    "# print(participants.size) # returns 20*2 = 40\n",
    "# print(participants.ndim) # returns 2\n",
    "print(participants.index)\n",
    "print(participants.columns)\n",
    "print(participants.shape[0]) # returns number of rows = 20\n",
    "print(participants.shape[1]) # returns number of columns = 2"
   ]
  },
  {
   "cell_type": "code",
   "execution_count": 11,
   "metadata": {},
   "outputs": [
    {
     "name": "stdout",
     "output_type": "stream",
     "text": [
      "Name              user 1\n",
      "Email    email1@mail.com\n",
      "Name: 0, dtype: object\n",
      "user 1\n",
      "email1@mail.com\n"
     ]
    }
   ],
   "source": [
    "n = len(participants)\n",
    "\n",
    "# temp_folder = home + \"/Downloads/temp_secret_santa\"\n",
    "temp_folder = \"temp_secret_santa\"\n",
    "if not os.path.exists(temp_folder):\n",
    "    os.mkdir(temp_folder)\n",
    "\n",
    "print(participants.iloc[0])\n",
    "print(participants.iloc[0][\"Name\"])\n",
    "print(participants.iloc[0][\"Email\"])"
   ]
  },
  {
   "cell_type": "code",
   "execution_count": 12,
   "metadata": {
    "collapsed": true
   },
   "outputs": [],
   "source": [
    "# generate random associations between Secret Santas and giftees\n",
    "a = sample(range(n), n)\n",
    "# print a # person i gives present to person i + 1, and last person gives present to person 0"
   ]
  },
  {
   "cell_type": "code",
   "execution_count": 13,
   "metadata": {
    "collapsed": true
   },
   "outputs": [],
   "source": [
    "from PIL import Image, ImageDraw, ImageFont\n",
    "\n",
    "font = ImageFont.truetype('Roboto-Regular.ttf', size=60)\n",
    "color = 'rgb(255, 255, 255)' # black color"
   ]
  },
  {
   "cell_type": "code",
   "execution_count": 16,
   "metadata": {},
   "outputs": [
    {
     "name": "stdout",
     "output_type": "stream",
     "text": [
      "Done 1/20\n",
      "Done 2/20\n",
      "Done 3/20\n",
      "Done 4/20\n",
      "Done 5/20\n",
      "Done 6/20\n",
      "Done 7/20\n",
      "Done 8/20\n",
      "Done 9/20\n",
      "Done 10/20\n",
      "Done 11/20\n",
      "Done 12/20\n",
      "Done 13/20\n",
      "Done 14/20\n",
      "Done 15/20\n",
      "Done 16/20\n",
      "Done 17/20\n",
      "Done 18/20\n",
      "Done 19/20\n",
      "Done 20/20\n"
     ]
    }
   ],
   "source": [
    "for i in range(n):\n",
    "    \n",
    "    if i < n - 1: j = i + 1\n",
    "    else: j = 0\n",
    "    \n",
    "    secret_from = participants.iloc[a[i]][\"Name\"]\n",
    "    secret_to = participants.iloc[a[j]][\"Name\"]    \n",
    "#     print secret_from + \" gives present to \" + secret_to\n",
    "    \n",
    "    # open image\n",
    "    image = Image.open('secret_santa_background.jpg') \n",
    "    draw = ImageDraw.Draw(image)\n",
    "    draw.text((700 - float(font.getsize(secret_from)[0])/2, 200), secret_from, fill = color, font = font)\n",
    "    draw.text((700 - float(font.getsize(\"You are Secret Santa for:\")[0])/2, 300), \"You are Secret Santa for:\", fill = color, font = font)\n",
    "    draw.text((700 - float(font.getsize(secret_to)[0])/2, 400), secret_to, fill = color, font = font)\n",
    "    # save the edited image\n",
    "    image.save(temp_folder + '/' + secret_from + '.jpg')\n",
    "    \n",
    "    print(\"Done \" + str(i+1) + \"/\" + str(n) )\n",
    "    \n",
    "#     f = open(temp_folder + \"/\" + secret_from + \".txt\", \"w\")\n",
    "#     f.write(secret_from + \",\\n\")\n",
    "#     f.write(\"You are Secret Santa for:\\n\")\n",
    "#     f.write(secret_to)\n",
    "#     f.close()"
   ]
  },
  {
   "cell_type": "markdown",
   "metadata": {},
   "source": [
    "# Send Emails"
   ]
  },
  {
   "cell_type": "code",
   "execution_count": 20,
   "metadata": {},
   "outputs": [],
   "source": [
    "import smtplib\n",
    "from email.mime.text import MIMEText\n",
    "from email.mime.multipart import MIMEMultipart\n",
    "from email.mime.image import MIMEImage\n",
    "from email.mime.base import MIMEBase\n",
    "# from email.MIMEBase import MIMEBase\n",
    "from email import encoders\n",
    "from mimetypes import guess_type\n",
    "from email.encoders import encode_base64"
   ]
  },
  {
   "cell_type": "code",
   "execution_count": 21,
   "metadata": {
    "collapsed": true
   },
   "outputs": [],
   "source": [
    "sender = 'you_email@mail.com'\n",
    "subject = \"Secret Santa 2018\"\n",
    "body = (\"Dear Secret Santa,\\n\\n\"\n",
    "        \"In this email you'll find attached the name of the person you are Secret Santa for.\\n\\n\"\n",
    "        \"Please bear in mind the gift exchange will take place on Wed 12th December, \"\n",
    "        \"and the suggested price of the presents is GBP 5-10.\\n\\n\"\n",
    "        \"Any questions please send me an email to <you_email@mail.com>.\\n\\n\"\n",
    "        \"Merry Christmas!!\\n\"\n",
    "        \"Helper Elf\\n\\n\"\n",
    ")"
   ]
  },
  {
   "cell_type": "code",
   "execution_count": 179,
   "metadata": {
    "collapsed": true
   },
   "outputs": [],
   "source": [
    "for i in range(n):\n",
    "    send_to_Name = participants.iloc[i][\"Name\"]\n",
    "    send_to_Email = participants.iloc[i][\"Email\"]\n",
    "\n",
    "    msg = MIMEMultipart()\n",
    "    address_book = send_to_Email\n",
    "    \n",
    "    msg['From'] = sender\n",
    "    msg['To'] = address_book\n",
    "    msg['Subject'] = subject\n",
    "    msg.attach(MIMEText(body, 'plain'))\n",
    "\n",
    "    filename = temp_folder + '/' + send_to_Name + '.jpg'\n",
    "    fp = open(filename, 'rb')\n",
    "    img = MIMEImage(fp.read())\n",
    "    fp.close()\n",
    "    msg.attach(img)\n",
    "    \n",
    "    text = msg.as_string()\n",
    "    # Send the message via our SMTP server\n",
    "    s = smtplib.SMTP('localhost')\n",
    "    s.sendmail(sender,address_book, text)\n",
    "    s.quit()"
   ]
  },
  {
   "cell_type": "code",
   "execution_count": 17,
   "metadata": {},
   "outputs": [
    {
     "data": {
      "text/html": [
       "<div>\n",
       "<style>\n",
       "    .dataframe thead tr:only-child th {\n",
       "        text-align: right;\n",
       "    }\n",
       "\n",
       "    .dataframe thead th {\n",
       "        text-align: left;\n",
       "    }\n",
       "\n",
       "    .dataframe tbody tr th {\n",
       "        vertical-align: top;\n",
       "    }\n",
       "</style>\n",
       "<table border=\"1\" class=\"dataframe\">\n",
       "  <thead>\n",
       "    <tr style=\"text-align: right;\">\n",
       "      <th></th>\n",
       "      <th>Name</th>\n",
       "      <th>Email</th>\n",
       "    </tr>\n",
       "  </thead>\n",
       "  <tbody>\n",
       "    <tr>\n",
       "      <th>0</th>\n",
       "      <td>user 1</td>\n",
       "      <td>email1@mail.com</td>\n",
       "    </tr>\n",
       "    <tr>\n",
       "      <th>1</th>\n",
       "      <td>user 2</td>\n",
       "      <td>email2@mail.com</td>\n",
       "    </tr>\n",
       "    <tr>\n",
       "      <th>2</th>\n",
       "      <td>user 3</td>\n",
       "      <td>email3@mail.com</td>\n",
       "    </tr>\n",
       "  </tbody>\n",
       "</table>\n",
       "</div>"
      ],
      "text/plain": [
       "     Name            Email\n",
       "0  user 1  email1@mail.com\n",
       "1  user 2  email2@mail.com\n",
       "2  user 3  email3@mail.com"
      ]
     },
     "execution_count": 17,
     "metadata": {},
     "output_type": "execute_result"
    }
   ],
   "source": [
    "participants[:3]"
   ]
  }
 ],
 "metadata": {
  "kernelspec": {
   "display_name": "Python 3",
   "language": "python",
   "name": "python3"
  },
  "language_info": {
   "codemirror_mode": {
    "name": "ipython",
    "version": 3
   },
   "file_extension": ".py",
   "mimetype": "text/x-python",
   "name": "python",
   "nbconvert_exporter": "python",
   "pygments_lexer": "ipython3",
   "version": "3.6.2"
  }
 },
 "nbformat": 4,
 "nbformat_minor": 2
}
